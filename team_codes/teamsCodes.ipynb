{
 "cells": [
  {
   "cell_type": "code",
   "execution_count": 1,
   "metadata": {},
   "outputs": [],
   "source": [
    "from MyWebscrapingTools import MyWsTools\n",
    "import pandas as pd\n",
    "from datetime import datetime\n",
    "from selenium import webdriver\n",
    "from selenium.webdriver.chrome.options import Options\n",
    "import shutil"
   ]
  },
  {
   "cell_type": "code",
   "execution_count": 2,
   "metadata": {},
   "outputs": [],
   "source": [
    "def init_driver(driver_headless=True, driver_loglevel3=True, driver_noImg=True):\n",
    "    #### options\n",
    "    chrome_options = Options()\n",
    "    if driver_headless == True:\n",
    "        chrome_options.add_argument('--headless')\n",
    "    if driver_loglevel3 == True:\n",
    "        chrome_options.add_argument('log-level=3')\n",
    "    if driver_noImg == True:\n",
    "        chrome_options.add_argument('--blink-settings=imagesEnabled=false')\n",
    "    #### service\n",
    "    chrome_service = webdriver.ChromeService(executable_path=shutil.which('chromedriver'))\n",
    "    #### webdriver\n",
    "    driver = webdriver.Chrome(options=chrome_options, service=chrome_service)\n",
    "    return driver"
   ]
  },
  {
   "cell_type": "code",
   "execution_count": 3,
   "metadata": {},
   "outputs": [],
   "source": [
    "driver = init_driver(driver_headless=False)\n",
    "driver.get(\"https://fbref.com/en/comps/11/Serie-A-Stats\")"
   ]
  },
  {
   "cell_type": "code",
   "execution_count": 4,
   "metadata": {},
   "outputs": [],
   "source": [
    "mws = MyWsTools(driver)"
   ]
  },
  {
   "cell_type": "code",
   "execution_count": null,
   "metadata": {},
   "outputs": [],
   "source": [
    "team_names = mws.elements('//*[@id=\"stats_squads_standard_for\"]/tbody/tr/th', text=True)\n",
    "team_hrefs = mws.elements('//*[@id=\"stats_squads_standard_for\"]/tbody/tr/th/a')\n",
    "code_start = 28\n",
    "team_codes = [elem.get_attribute(\"href\")[code_start:code_start+8] for elem in team_hrefs] #codes start after 28 chars and are 8 chars long"
   ]
  },
  {
   "cell_type": "code",
   "execution_count": 7,
   "metadata": {},
   "outputs": [
    {
     "name": "stdout",
     "output_type": "stream",
     "text": [
      "Atalanta 922493f3 https://fbref.com/en/squads/922493f3/Atalanta-Stats\n",
      "Bologna 1d8099f8 https://fbref.com/en/squads/1d8099f8/Bologna-Stats\n",
      "Cagliari c4260e09 https://fbref.com/en/squads/c4260e09/Cagliari-Stats\n",
      "Como 28c9c3cd https://fbref.com/en/squads/28c9c3cd/Como-Stats\n",
      "Empoli a3d88bd8 https://fbref.com/en/squads/a3d88bd8/Empoli-Stats\n",
      "Fiorentina 421387cf https://fbref.com/en/squads/421387cf/Fiorentina-Stats\n",
      "Genoa 658bf2de https://fbref.com/en/squads/658bf2de/Genoa-Stats\n",
      "Hellas Verona 0e72edf2 https://fbref.com/en/squads/0e72edf2/Hellas-Verona-Stats\n",
      "Inter d609edc0 https://fbref.com/en/squads/d609edc0/Internazionale-Stats\n",
      "Juventus e0652b02 https://fbref.com/en/squads/e0652b02/Juventus-Stats\n",
      "Lazio 7213da33 https://fbref.com/en/squads/7213da33/Lazio-Stats\n",
      "Lecce ffcbe334 https://fbref.com/en/squads/ffcbe334/Lecce-Stats\n",
      "Milan dc56fe14 https://fbref.com/en/squads/dc56fe14/Milan-Stats\n",
      "Monza 21680aa4 https://fbref.com/en/squads/21680aa4/Monza-Stats\n",
      "Napoli d48ad4ff https://fbref.com/en/squads/d48ad4ff/Napoli-Stats\n",
      "Parma eab4234c https://fbref.com/en/squads/eab4234c/Parma-Stats\n",
      "Roma cf74a709 https://fbref.com/en/squads/cf74a709/Roma-Stats\n",
      "Torino 105360fe https://fbref.com/en/squads/105360fe/Torino-Stats\n",
      "Udinese 04eea015 https://fbref.com/en/squads/04eea015/Udinese-Stats\n",
      "Venezia af5d5982 https://fbref.com/en/squads/af5d5982/Venezia-Stats\n"
     ]
    }
   ],
   "source": [
    "for n, c, h in zip(team_names, team_codes, team_hrefs):\n",
    "    print(n, c, h.get_attribute(\"href\"))"
   ]
  },
  {
   "cell_type": "code",
   "execution_count": 9,
   "metadata": {},
   "outputs": [],
   "source": [
    "teams = pd.DataFrame({\"team_name\": team_names, \"team_code\": team_codes})\n",
    "teams.to_csv(f'teams_{24}-{25}.csv', index=False)"
   ]
  }
 ],
 "metadata": {
  "kernelspec": {
   "display_name": "Python 3",
   "language": "python",
   "name": "python3"
  },
  "language_info": {
   "codemirror_mode": {
    "name": "ipython",
    "version": 3
   },
   "file_extension": ".py",
   "mimetype": "text/x-python",
   "name": "python",
   "nbconvert_exporter": "python",
   "pygments_lexer": "ipython3",
   "version": "3.11.5"
  },
  "orig_nbformat": 4
 },
 "nbformat": 4,
 "nbformat_minor": 2
}
