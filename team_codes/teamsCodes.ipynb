{
 "cells": [
  {
   "cell_type": "code",
   "execution_count": 30,
   "metadata": {},
   "outputs": [],
   "source": [
    "from MyWebscrapingTools import MyWsTools\n",
    "import pandas as pd\n",
    "from datetime import datetime\n",
    "from selenium import webdriver\n",
    "from selenium.webdriver.chrome.options import Options\n",
    "import shutil"
   ]
  },
  {
   "cell_type": "code",
   "execution_count": 13,
   "metadata": {},
   "outputs": [],
   "source": [
    "def init_driver(driver_headless=True, driver_loglevel3=True, driver_noImg=True):\n",
    "    #### options\n",
    "    chrome_options = Options()\n",
    "    if driver_headless == True:\n",
    "        chrome_options.add_argument('--headless')\n",
    "    if driver_loglevel3 == True:\n",
    "        chrome_options.add_argument('log-level=3')\n",
    "    if driver_noImg == True:\n",
    "        chrome_options.add_argument('--blink-settings=imagesEnabled=false')\n",
    "    #### service\n",
    "    chrome_service = webdriver.ChromeService(executable_path=shutil.which('chromedriver'))\n",
    "    #### webdriver\n",
    "    driver = webdriver.Chrome(options=chrome_options, service=chrome_service)\n",
    "    return driver"
   ]
  },
  {
   "cell_type": "code",
   "execution_count": 14,
   "metadata": {},
   "outputs": [],
   "source": [
    "driver = init_driver(driver_headless=False)\n",
    "driver.get(\"https://fbref.com/en/comps/11/Serie-A-Stats\")"
   ]
  },
  {
   "cell_type": "code",
   "execution_count": 15,
   "metadata": {},
   "outputs": [],
   "source": [
    "mws = MyWsTools(driver)"
   ]
  },
  {
   "cell_type": "code",
   "execution_count": 25,
   "metadata": {},
   "outputs": [],
   "source": [
    "team_names = mws.elements('//*[@id=\"stats_squads_standard_for\"]/tbody/tr/th', text=True)\n",
    "team_hrefs = mws.elements('/html/body/div[4]/div[7]/div[2]/div[4]/div[2]/table/tbody/tr/td[1]/a')\n",
    "code_start = 28\n",
    "team_codes = [elem.get_attribute(\"href\")[code_start:code_start+8] for elem in team_hrefs] #codes start after 28 chars and are 8 chars long"
   ]
  },
  {
   "cell_type": "code",
   "execution_count": 32,
   "metadata": {},
   "outputs": [],
   "source": [
    "teams = pd.DataFrame({\"team_name\": team_names, \"team_code\": team_codes})\n",
    "teams.to_csv(f'teams_{24}-{25}.csv', index=False)\n",
    "# datetime.today().year - 2000"
   ]
  },
  {
   "cell_type": "code",
   "execution_count": 33,
   "metadata": {},
   "outputs": [
    {
     "data": {
      "text/plain": [
       "2024"
      ]
     },
     "execution_count": 33,
     "metadata": {},
     "output_type": "execute_result"
    }
   ],
   "source": [
    "datetime.today().year"
   ]
  }
 ],
 "metadata": {
  "kernelspec": {
   "display_name": "Python 3",
   "language": "python",
   "name": "python3"
  },
  "language_info": {
   "codemirror_mode": {
    "name": "ipython",
    "version": 3
   },
   "file_extension": ".py",
   "mimetype": "text/x-python",
   "name": "python",
   "nbconvert_exporter": "python",
   "pygments_lexer": "ipython3",
   "version": "3.11.5"
  },
  "orig_nbformat": 4
 },
 "nbformat": 4,
 "nbformat_minor": 2
}
