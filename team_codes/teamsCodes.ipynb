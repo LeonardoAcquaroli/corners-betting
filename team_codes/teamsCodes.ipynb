{
 "cells": [
  {
   "cell_type": "code",
   "execution_count": 1,
   "metadata": {},
   "outputs": [],
   "source": [
    "from MyWebscrapingTools import MyWsTools\n",
    "import pandas as pd\n",
    "from selenium import webdriver\n",
    "from selenium.webdriver.common.by import By\n",
    "from selenium.webdriver.support.ui import WebDriverWait\n",
    "from selenium.webdriver.support import expected_conditions as EC\n",
    "from selenium.webdriver.chrome.options import Options"
   ]
  },
  {
   "cell_type": "code",
   "execution_count": 2,
   "metadata": {},
   "outputs": [],
   "source": [
    "#### options\n",
    "chrome_options = Options()\n",
    "chrome_options.add_argument('--headless')\n",
    "chrome_options.add_argument('log-level=3')\n",
    "chrome_options.add_argument('--blink-settings=imagesEnabled=false')\n",
    "#### service\n",
    "chrome_service = webdriver.ChromeService(executable_path= r\"C:\\Users\\leoac\\OneDrive - Università degli Studi di Milano\\Data science\\Football\\Betting\\Corners\\chromedriver.exe\")\n",
    "#### webdriver\n",
    "driver = webdriver.Chrome(options=chrome_options, service=chrome_service)\n",
    "driver.get(\"https://fbref.com/en/comps/11/2022-2023/2022-2023-Serie-A-Stats\")"
   ]
  },
  {
   "cell_type": "code",
   "execution_count": 3,
   "metadata": {},
   "outputs": [],
   "source": [
    "mws = MyWsTools(driver)"
   ]
  },
  {
   "cell_type": "code",
   "execution_count": 5,
   "metadata": {},
   "outputs": [],
   "source": [
    "team_names = mws.elements('//*[@id=\"stats_squads_standard_for\"]/tbody/tr/th', text=True)\n",
    "team_hrefs = mws.elements('/html/body/div[3]/div[7]/div[3]/div[4]/div[2]/table/tbody/tr/td[1]/a')\n",
    "team_codes = [elem.get_attribute(\"href\")[28:36] for elem in team_hrefs] #codes start after 28 chars and are 8 chars long"
   ]
  },
  {
   "cell_type": "code",
   "execution_count": 6,
   "metadata": {},
   "outputs": [
    {
     "data": {
      "text/plain": [
       "['d48ad4ff',\n",
       " '7213da33',\n",
       " 'd609edc0',\n",
       " 'dc56fe14',\n",
       " '922493f3',\n",
       " 'cf74a709',\n",
       " 'e0652b02',\n",
       " '421387cf',\n",
       " '1d8099f8',\n",
       " '105360fe',\n",
       " '21680aa4',\n",
       " '04eea015',\n",
       " 'e2befd26',\n",
       " 'a3d88bd8',\n",
       " 'c5577084',\n",
       " 'ffcbe334',\n",
       " '68449f6d',\n",
       " '0e72edf2',\n",
       " '9aad3a77',\n",
       " '8ff9e3b3']"
      ]
     },
     "execution_count": 6,
     "metadata": {},
     "output_type": "execute_result"
    }
   ],
   "source": [
    "team_codes"
   ]
  },
  {
   "cell_type": "code",
   "execution_count": null,
   "metadata": {},
   "outputs": [],
   "source": [
    "teams = pd.DataFrame({\"team_name\": team_names, \"team_code\": team_codes})\n",
    "teams.to_csv('teams_22-23.csv', index=False)"
   ]
  }
 ],
 "metadata": {
  "kernelspec": {
   "display_name": "Python 3",
   "language": "python",
   "name": "python3"
  },
  "language_info": {
   "codemirror_mode": {
    "name": "ipython",
    "version": 3
   },
   "file_extension": ".py",
   "mimetype": "text/x-python",
   "name": "python",
   "nbconvert_exporter": "python",
   "pygments_lexer": "ipython3",
   "version": "3.11.5"
  },
  "orig_nbformat": 4
 },
 "nbformat": 4,
 "nbformat_minor": 2
}
